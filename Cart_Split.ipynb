{
  "nbformat": 4,
  "nbformat_minor": 0,
  "metadata": {
    "colab": {
      "name": "Cart_Split.ipynb",
      "version": "0.3.2",
      "provenance": [],
      "include_colab_link": true
    },
    "kernelspec": {
      "name": "python3",
      "display_name": "Python 3"
    }
  },
  "cells": [
    {
      "cell_type": "markdown",
      "metadata": {
        "id": "view-in-github",
        "colab_type": "text"
      },
      "source": [
        "<a href=\"https://colab.research.google.com/github/chonorat/Classification/blob/master/Cart_Split.ipynb\" target=\"_parent\"><img src=\"https://colab.research.google.com/assets/colab-badge.svg\" alt=\"Open In Colab\"/></a>"
      ]
    },
    {
      "cell_type": "code",
      "metadata": {
        "id": "Hf_OVeIGbaXS",
        "colab_type": "code",
        "colab": {
          "base_uri": "https://localhost:8080/",
          "height": 35
        },
        "outputId": "b98e4c51-e383-45ff-859b-d150eb40dccf"
      },
      "source": [
        "import sys\n",
        "import random\n",
        "import pandas as pd\n",
        "import numpy as np\n",
        "####################################\n",
        "##############Dot Product\n",
        "#################################\n",
        "def dot_prod(W_Vector,F_Vector):\n",
        "        dp=0\n",
        "        for i in range(0,len(W_Vector)):\n",
        "                dp=dp+(W_Vector[i]*(F_Vector[i]))\n",
        "        return(dp)\n",
        "##################\n",
        "###Read Data############\n",
        "######################\n",
        "datafile='/content/ionosphere.data'\n",
        "f=open(datafile)\n",
        "data=[]\n",
        "i=0\n",
        "l=f.readline()\n",
        "while(l!=''):\n",
        "        a=l.split()\n",
        "        l2=[]\n",
        "        for j in range(0,len(a),1):\n",
        "                l2.append(float(a[j]))\n",
        "        data.append(l2)\n",
        "        l=f.readline()\n",
        "rows=len(data)\n",
        "cols=len(data[0])\n",
        "#################\n",
        "##################Read Labels\n",
        "###################\n",
        "labelfile='/content/ionosphere_trailabels.data'\n",
        "f=open(labelfile)\n",
        "trainlabels={}\n",
        "n=[]\n",
        "n.append(0)\n",
        "n.append(0)\n",
        "l=f.readline()\n",
        "while(l !=''):\n",
        "        a=l.split()\n",
        "        if int(a[0])==1 or int(a[0])==0:\n",
        "                trainlabels[int(a[1])]=int(a[0])\n",
        "                n[int(a[0])]+=1\n",
        "        l=f.readline()\n",
        "##########\n",
        "##set class labels\n",
        "########\n",
        "for i in range(0,rows-1):\n",
        "        if(trainlabels.get(i)!=None and trainlabels[i]==0):\n",
        "                trainlabels[i]=-1\n",
        "\n",
        "data=np.array(data)\n",
        "\n",
        "###Train data count\n",
        "traincount=0\n",
        "for i in range(0,rows):\n",
        "        if trainlabels.get(i)!=None:\n",
        "                traincount=traincount+1\n",
        "###split on value\n",
        "def split_col(split,column,rows):\n",
        "        set1=[]\n",
        "        set2=[]\n",
        "        for i in range(0,rows):\n",
        "                if(trainlabels.get(i)!=None):\n",
        "                        if data[i][column]<split:\n",
        "                                set1.append(trainlabels[i])\n",
        "                        else:\n",
        "                                set2.append(trainlabels[i])\n",
        "        return set1,set2\n",
        "####Count -1 labels in set\n",
        "def countX(lst):\n",
        "    count = 0\n",
        "    for ele in lst:\n",
        "        if (ele == -1):\n",
        "            count = count + 1\n",
        "    return count\n",
        "\n",
        "\n",
        "#####Main Method\n",
        "gini,best_gini,best_col,best_thresh,bottom=10000000,10000,10000,10000,100000\n",
        "for k in range(0,cols):\n",
        "        for i in range(0,rows):\n",
        "                set1,set2=split_col(data[i][k],k,rows)\n",
        "                lsize,rsize=len(set1),len(set2)\n",
        "                try:\n",
        "                        lp=countX(set1)\n",
        "                        rp=countX(set2)\n",
        "                        gini = (lsize/traincount)*(lp/lsize)*(1 - lp/lsize) + (rsize/traincount)*(rp/rsize)*(1 - rp/rsize)\n",
        "                except:\n",
        "                        pass\n",
        "                if gini<best_gini:\n",
        "                        best_gini=gini\n",
        "                        best_thresh=data[i][k]\n",
        "                        best_col=k\n",
        "                        try:\n",
        "                                bottom=min(data[data[:,k]<data[i,k],k], key=lambda x:data[i,k]-x)\n",
        "                        except:\n",
        "                                pass\n",
        "\n",
        "try:\n",
        "        best_thresh=(best_thresh+bottom)/2\n",
        "except:\n",
        "        pass\n",
        "print(\"Gini=\",best_gini,\"Best Column=\",best_col,\"Best Split=\",np.round(best_thresh,8))\n"
      ],
      "execution_count": 7,
      "outputs": [
        {
          "output_type": "stream",
          "text": [
            "Gini= 0.12969873663751214 Best Column= 4 Best Split= 0.23154\n"
          ],
          "name": "stdout"
        }
      ]
    }
  ]
}